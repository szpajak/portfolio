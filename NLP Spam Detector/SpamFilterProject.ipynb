{
 "cells": [
  {
   "cell_type": "markdown",
   "id": "89634a4f",
   "metadata": {},
   "source": [
    "# **Natural Language Processing for Spam Detection**\n",
    "\n",
    "---\n",
    "\n",
    "## **Overview**\n",
    "\n",
    "This notebook explores the application of Natural Language Processing (NLP) techniques to classify text messages as either spam or legitimate (ham). The goal is to build a machine learning model that can accurately predict whether a given message is spam (unsolicited or promotional) or harmless (non-spam).\n",
    "\n",
    "## **Dataset**\n",
    "\n",
    "The dataset used for this analysis consists of labeled text messages, where each message is tagged as either spam or ham. It includes a collection of text features derived from these messages, which will be used to train and evaluate our NLP models.\n",
    "\n",
    "## **Approach**\n",
    "\n",
    "We'll follow these main steps:\n",
    "\n",
    "1. **Data Preprocessing**: Cleaning and preparing the text data for analysis, including tasks such as tokenization, removing stopwords, and vectorization.\n",
    "   \n",
    "2. **Model Selection, Training and Evaluation**: Exploring various machine learning algorithms suitable for text classification, such as Naive Bayes, Support Vector Machines (SVM), Random Forest Classifier or XGBoost Classifier. Building and training our models using the preprocessed data, then evaluating their performance in terms of accuracy, precision, recall, and F1-score.\n",
    "   \n",
    "3. **Model Deployment**: Deploying the best-performing model to predict the spamminess of new, unseen text messages.\n",
    "\n",
    "## **Tools and Libraries**\n",
    "\n",
    "We'll primarily use Python along with popular libraries for NLP and machine learning, including:\n",
    "\n",
    "- `numpy` and `pandas` for data manipulation\n",
    "- `nltk` and `scikit-learn` for NLP tasks and machine learning algorithms\n",
    "- `matplotlib` for visualization\n",
    "\n",
    "## **Let's Get Started!**\n",
    "\n",
    "Now, let's dive into the implementation of these steps and develop a robust spam detection model using NLP techniques.\n",
    "\n",
    "---"
   ]
  },
  {
   "cell_type": "markdown",
   "id": "1b95ebfc",
   "metadata": {},
   "source": [
    "# **1. Data Preprocessing** "
   ]
  },
  {
   "cell_type": "code",
   "execution_count": 302,
   "id": "161d1c7d",
   "metadata": {
    "ExecuteTime": {
     "end_time": "2023-12-15T18:03:23.389562Z",
     "start_time": "2023-12-15T18:03:16.155445Z"
    }
   },
   "outputs": [],
   "source": [
    "# %pip install nltk\n",
    "import nltk\n",
    "import pandas as pd\n",
    "import numpy as np\n",
    "import matplotlib.pyplot as plt\n",
    "from nltk.tokenize import word_tokenize\n",
    "from nltk.corpus import stopwords\n",
    "from nltk.stem import WordNetLemmatizer\n",
    "\n",
    "from nltk.tokenize import RegexpTokenizer"
   ]
  },
  {
   "cell_type": "code",
   "execution_count": 303,
   "id": "c3ee1d56",
   "metadata": {
    "ExecuteTime": {
     "end_time": "2023-12-15T18:03:25.033126Z",
     "start_time": "2023-12-15T18:03:24.275825900Z"
    }
   },
   "outputs": [],
   "source": [
    "data = pd.read_csv(\"dataset/spam.csv\", encoding='latin-1')"
   ]
  },
  {
   "cell_type": "code",
   "execution_count": 304,
   "id": "446587bc",
   "metadata": {
    "scrolled": true
   },
   "outputs": [
    {
     "name": "stdout",
     "output_type": "stream",
     "text": [
      "Total positive samples:  747\n",
      "Total negative samples:  4825\n"
     ]
    }
   ],
   "source": [
    "# Select only the columns that we need\n",
    "data = data[['v1', 'v2']]\n",
    "data.columns = ['label', 'msg']\n",
    "\n",
    "total_positive_samples = len(data[data['label'] == 'spam'])\n",
    "total_negative_samples = len(data[data['label'] == 'ham'])\n",
    "\n",
    "print(\"Total positive samples: \", total_positive_samples)\n",
    "print(\"Total negative samples: \", total_negative_samples)"
   ]
  },
  {
   "cell_type": "code",
   "execution_count": 305,
   "id": "cca0fdc8",
   "metadata": {},
   "outputs": [],
   "source": [
    "def preproccess(data):\n",
    "    \"\"\"\n",
    "    This function takes a string and returns a string after removing stopwords and lemmatizing the words.\n",
    "    Parameters:\n",
    "    data : str : A string that needs to be preprocessed.\n",
    "    Returns:\n",
    "    words : str : A string after removing stopwords and lemmatizing the words.    \n",
    "    \"\"\"\n",
    "    data= data.lower()\n",
    "    lem = WordNetLemmatizer()\n",
    "    words = word_tokenize(data)\n",
    "    words = [word for word in words if word not in stopwords.words(\"english\")]\n",
    "    words = [lem.lemmatize(word, pos='v') for word in words]\n",
    "    words = \" \".join(words)\n",
    "    \n",
    "    tokenizer = RegexpTokenizer(r'\\w+')\n",
    "    words = tokenizer.tokenize(words)\n",
    "    words = \" \".join(words)\n",
    "    return words\n",
    "\n",
    "def storeAllWords(list_of_messages):\n",
    "    \"\"\"\n",
    "    This function takes a list of messages and returns a list of all the words in the messages.\n",
    "    Parameters:\n",
    "    list_of_messages : list : A list of messages.\n",
    "    Returns:\n",
    "    allWords : list : A list of all the words in the messages.\n",
    "    \"\"\"\n",
    "    allWords=[]\n",
    "    for msg in list_of_messages:\n",
    "        for word in msg:\n",
    "            allWords.append(word)\n",
    "    return allWords\n",
    "\n",
    "\n",
    "def getMostCommon(list_of_words, index):\n",
    "    \"\"\"\n",
    "    This function takes a list of words and an index and stores the most common words in the global dataframe.\n",
    "    Parameters:\n",
    "    list_of_words : list : A list of words.\n",
    "    index : int : The index of the message.\n",
    "    \"\"\"\n",
    "    global df\n",
    "    freq=nltk.FreqDist(list_of_words)\n",
    "    freq=freq.most_common(len(freq))\n",
    "    for f in freq:\n",
    "        df[f[0]][index]=f[1]"
   ]
  },
  {
   "cell_type": "code",
   "execution_count": 306,
   "id": "bf0d1f93",
   "metadata": {},
   "outputs": [
    {
     "name": "stdout",
     "output_type": "stream",
     "text": [
      "Test message:\n",
      "Okay name ur price as long as its legal! Wen can I pick them up? Y u ave x ams xx\n",
      "-------------------------------------------------------------------------------------\n",
      "Preprocessed message:\n",
      "okay name ur price long legal wen pick u ave x ams xx\n"
     ]
    }
   ],
   "source": [
    "# Test the preproccess function on a single message\n",
    "\n",
    "test = data[\"msg\"][100]\n",
    "preprocessed_test = preproccess(test)\n",
    "\n",
    "print(f'Test message:\\n{test}')\n",
    "print('-' * 85)\n",
    "print(f'Preprocessed message:\\n{preprocessed_test}')"
   ]
  },
  {
   "cell_type": "code",
   "execution_count": 307,
   "id": "05fb0922",
   "metadata": {},
   "outputs": [
    {
     "name": "stdout",
     "output_type": "stream",
     "text": [
      "Amount of unique words: 7740\n"
     ]
    }
   ],
   "source": [
    "# Create a new dataframe with all the words in the messages\n",
    "\n",
    "proc_msgs = {\"label\":[], \"msg\":[]}\n",
    "for i in range(0, len(data[\"msg\"])):\n",
    "    proc_msgs[\"msg\"].append(preproccess(data[\"msg\"][i]).split())\n",
    "    proc_msgs[\"label\"].append(data[\"label\"][i])\n",
    "\n",
    "allwords = storeAllWords(proc_msgs[\"msg\"])\n",
    "allwords_set = set(allwords)\n",
    "\n",
    "print(f'Amount of unique words: {len(allwords_set)}')"
   ]
  },
  {
   "cell_type": "code",
   "execution_count": 308,
   "id": "904eb29e",
   "metadata": {},
   "outputs": [],
   "source": [
    "df = pd.DataFrame(columns=list(allwords_set))\n",
    "df.insert(0, 'label', proc_msgs[\"label\"])\n",
    "\n",
    "for i in range(0,len(proc_msgs[\"msg\"])):\n",
    "    freq=set(proc_msgs[\"msg\"][i])\n",
    "    getMostCommon(freq,i)"
   ]
  },
  {
   "cell_type": "code",
   "execution_count": 309,
   "id": "226c8dbc",
   "metadata": {},
   "outputs": [
    {
     "data": {
      "text/plain": [
       "5572"
      ]
     },
     "execution_count": 309,
     "metadata": {},
     "output_type": "execute_result"
    }
   ],
   "source": [
    "# Fill the NaN values with 0\n",
    "\n",
    "df=df.fillna(0)\n",
    "len(df)"
   ]
  },
  {
   "cell_type": "markdown",
   "id": "4d7cc568",
   "metadata": {},
   "source": [
    "# **2. Model Selection, Training and Evaluation**"
   ]
  },
  {
   "cell_type": "code",
   "execution_count": 310,
   "id": "bbb6c31e",
   "metadata": {},
   "outputs": [],
   "source": [
    "from sklearn.model_selection import train_test_split\n",
    "from sklearn.preprocessing import OneHotEncoder\n",
    "from sklearn.metrics import accuracy_score, classification_report, confusion_matrix, ConfusionMatrixDisplay\n",
    "\n",
    "X = df.drop([\"label\"], axis=1)\n",
    "y = df[\"label\"]\n",
    "\n",
    "\n",
    "# Perform one-hot encoding on the labels\n",
    "onehot = OneHotEncoder(drop='first')\n",
    "y = onehot.fit_transform(np.array(y).reshape(-1,1)).toarray()\n",
    "\n",
    "X_train, X_test, y_train, y_test = train_test_split(X, y, test_size=0.2, random_state=42)"
   ]
  },
  {
   "cell_type": "code",
   "execution_count": 267,
   "id": "62d5a6e3",
   "metadata": {},
   "outputs": [
    {
     "name": "stdout",
     "output_type": "stream",
     "text": [
      "-------------------------------------------------------------------------------------\n",
      "                          GAUSSIAN NAIVE BAYES MODEL\n",
      "-------------------------------------------------------------------------------------\n",
      "                            Accuracy score: 87.89%\n",
      "-------------------------------------------------------------------------------------\n",
      "Classification report:\n",
      "\n",
      "              precision    recall  f1-score   support\n",
      "\n",
      "         0.0       0.99      0.87      0.93       965\n",
      "         1.0       0.53      0.94      0.68       150\n",
      "\n",
      "    accuracy                           0.88      1115\n",
      "   macro avg       0.76      0.90      0.80      1115\n",
      "weighted avg       0.93      0.88      0.89      1115\n",
      "\n"
     ]
    },
    {
     "data": {
      "image/png": "[encoded data removed]",
      "text/plain": [
       "<Figure size 640x480 with 2 Axes>"
      ]
     },
     "metadata": {},
     "output_type": "display_data"
    }
   ],
   "source": [
    "# Train the model using Gaussian Naive Bayes\n",
    "from sklearn.naive_bayes import GaussianNB\n",
    "\n",
    "gauss = GaussianNB()\n",
    "gauss.fit(X_train, y_train.ravel())\n",
    "y_pred = gauss.predict(X_test)\n",
    "\n",
    "print('-' * 85)\n",
    "print('                          GAUSSIAN NAIVE BAYES MODEL')\n",
    "print('-' * 85)\n",
    "print(f'                            Accuracy score: {accuracy_score(y_test, y_pred)*100:.2f}%')\n",
    "print('-' * 85)\n",
    "print('Classification report:\\n')\n",
    "print(classification_report(y_test, y_pred))\n",
    "\n",
    "conf_mtrx = confusion_matrix(y_test, y_pred)\n",
    "\n",
    "disp = ConfusionMatrixDisplay(confusion_matrix=conf_mtrx, display_labels=onehot.categories_[0])\n",
    "disp.plot(cmap='Reds')\n",
    "plt.title('Confusion matrix')\n",
    "plt.show()"
   ]
  },
  {
   "cell_type": "code",
   "execution_count": 279,
   "id": "21e163b5",
   "metadata": {},
   "outputs": [
    {
     "name": "stdout",
     "output_type": "stream",
     "text": [
      "-------------------------------------------------------------------------------------\n",
      "                        SUPPORT VECTOR MACHINE MODEL\n",
      "-------------------------------------------------------------------------------------\n",
      "                            Accuracy score: 98.12%\n",
      "-------------------------------------------------------------------------------------\n",
      "Classification report:\n",
      "\n",
      "              precision    recall  f1-score   support\n",
      "\n",
      "         0.0       0.98      1.00      0.99       965\n",
      "         1.0       1.00      0.86      0.92       150\n",
      "\n",
      "    accuracy                           0.98      1115\n",
      "   macro avg       0.99      0.93      0.96      1115\n",
      "weighted avg       0.98      0.98      0.98      1115\n",
      "\n"
     ]
    },
    {
     "data": {
      "image/png": "[encoded data removed]",
      "text/plain": [
       "<Figure size 640x480 with 2 Axes>"
      ]
     },
     "metadata": {},
     "output_type": "display_data"
    }
   ],
   "source": [
    "# Train the model using Support Vector Machine\n",
    "from sklearn.svm import SVC\n",
    "\n",
    "svc = SVC(kernel='linear', C=1000, random_state=42, probability=True)\n",
    "svc.fit(X_train, y_train.ravel())\n",
    "y_pred = svc.predict(X_test)\n",
    "\n",
    "print('-' * 85)\n",
    "print('                        SUPPORT VECTOR MACHINE MODEL')\n",
    "print('-' * 85)\n",
    "print(f'                            Accuracy score: {accuracy_score(y_test, y_pred)*100:.2f}%')\n",
    "print('-' * 85)\n",
    "print('Classification report:\\n')\n",
    "print(classification_report(y_test, y_pred))\n",
    "\n",
    "conf_mtrx = confusion_matrix(y_test, y_pred)\n",
    "disp = ConfusionMatrixDisplay(confusion_matrix=conf_mtrx, display_labels=onehot.categories_[0])\n",
    "disp.plot(cmap='Reds')\n",
    "plt.title('Confusion matrix')\n",
    "plt.show()"
   ]
  },
  {
   "cell_type": "code",
   "execution_count": 297,
   "id": "9944b245",
   "metadata": {},
   "outputs": [
    {
     "name": "stdout",
     "output_type": "stream",
     "text": [
      "-------------------------------------------------------------------------------------\n",
      "                        RANDOM FOREST CLASSIFIER MODEL\n",
      "-------------------------------------------------------------------------------------\n",
      "                            Accuracy score: 97.40%\n",
      "-------------------------------------------------------------------------------------\n",
      "Classification report:\n",
      "\n",
      "              precision    recall  f1-score   support\n",
      "\n",
      "         0.0       0.97      1.00      0.99       965\n",
      "         1.0       1.00      0.81      0.89       150\n",
      "\n",
      "    accuracy                           0.97      1115\n",
      "   macro avg       0.99      0.90      0.94      1115\n",
      "weighted avg       0.97      0.97      0.97      1115\n",
      "\n"
     ]
    },
    {
     "data": {
      "image/png": "[encoded data removed]",
      "text/plain": [
       "<Figure size 640x480 with 2 Axes>"
      ]
     },
     "metadata": {},
     "output_type": "display_data"
    }
   ],
   "source": [
    "# Train the model using Random Forest\n",
    "from sklearn.ensemble import RandomForestClassifier\n",
    "\n",
    "rf = RandomForestClassifier(n_estimators=100, criterion='entropy', bootstrap=True, random_state=42)\n",
    "rf.fit(X_train, y_train.ravel())\n",
    "y_pred = rf.predict(X_test)\n",
    "\n",
    "print('-' * 85)\n",
    "print('                        RANDOM FOREST CLASSIFIER MODEL')\n",
    "print('-' * 85)\n",
    "print(f'                            Accuracy score: {accuracy_score(y_test, y_pred)*100:.2f}%')\n",
    "print('-' * 85)\n",
    "print('Classification report:\\n')\n",
    "print(classification_report(y_test, y_pred))\n",
    "\n",
    "conf_mtrx = confusion_matrix(y_test, y_pred)\n",
    "disp = ConfusionMatrixDisplay(confusion_matrix=conf_mtrx, display_labels=onehot.categories_[0])\n",
    "disp.plot(cmap='Reds')\n",
    "plt.title('Confusion matrix')\n",
    "plt.show()"
   ]
  },
  {
   "cell_type": "code",
   "execution_count": 294,
   "id": "f6358b1f",
   "metadata": {},
   "outputs": [
    {
     "name": "stdout",
     "output_type": "stream",
     "text": [
      "-------------------------------------------------------------------------------------\n",
      "                           XGBOOST CLASSIFIER MODEL\n",
      "-------------------------------------------------------------------------------------\n",
      "                            Accuracy score: 98.30%\n",
      "-------------------------------------------------------------------------------------\n",
      "Classification report:\n",
      "\n",
      "              precision    recall  f1-score   support\n",
      "\n",
      "         0.0       0.99      0.99      0.99       965\n",
      "         1.0       0.95      0.92      0.94       150\n",
      "\n",
      "    accuracy                           0.98      1115\n",
      "   macro avg       0.97      0.96      0.96      1115\n",
      "weighted avg       0.98      0.98      0.98      1115\n",
      "\n"
     ]
    },
    {
     "data": {
      "image/png": "[encoded data removed]",
      "text/plain": [
       "<Figure size 640x480 with 2 Axes>"
      ]
     },
     "metadata": {},
     "output_type": "display_data"
    }
   ],
   "source": [
    "# Train the model using XGBoost\n",
    "from xgboost import XGBClassifier\n",
    "\n",
    "scale_pos_weight = total_negative_samples / total_positive_samples\n",
    "\n",
    "xgb = XGBClassifier(scale_pos_weight=scale_pos_weight, subsample=0.8, colsample_bytree=0.8, gamma=0.1, random_state=42)\n",
    "xgb.fit(X_train, y_train.ravel())\n",
    "y_pred = xgb.predict(X_test)\n",
    "\n",
    "print('-' * 85)\n",
    "print('                           XGBOOST CLASSIFIER MODEL')\n",
    "print('-' * 85)\n",
    "print(f'                            Accuracy score: {accuracy_score(y_test, y_pred)*100:.2f}%')\n",
    "print('-' * 85)\n",
    "print('Classification report:\\n')\n",
    "print(classification_report(y_test, y_pred))\n",
    "\n",
    "conf_mtrx = confusion_matrix(y_test, y_pred)\n",
    "disp = ConfusionMatrixDisplay(confusion_matrix=conf_mtrx, display_labels=onehot.categories_[0])\n",
    "disp.plot(cmap='Reds')\n",
    "plt.title('Confusion matrix')\n",
    "plt.show()"
   ]
  },
  {
   "cell_type": "markdown",
   "id": "30c0280b",
   "metadata": {},
   "source": [
    "**Choosing XGBoost for Deployment**\n",
    "\n",
    "For further deployment, XGBoost was selected not only for its **highest accuracy** among the models evaluated but also due to its **by far highest recall** rate. This means that XGBoost not only achieves impressive overall accuracy but also demonstrates a strong ability to correctly identify spam messages, making it well-suited for the task of spam detection where minimizing false negatives is crucial.\n"
   ]
  },
  {
   "cell_type": "markdown",
   "id": "8bb1e0b4",
   "metadata": {},
   "source": [
    "# **3. Model Deployment**\n",
    "\n"
   ]
  },
  {
   "cell_type": "code",
   "execution_count": 311,
   "id": "6faca9c8",
   "metadata": {},
   "outputs": [],
   "source": [
    "def predict_message(msg, allwords):\n",
    "    \"\"\"\n",
    "    This function takes a message and predicts if it is spam or not.\n",
    "    Parameters:\n",
    "    msg : str : A message that needs to be predicted.\n",
    "    Returns:\n",
    "    prediction : str : A string that says if the message is spam or not.\n",
    "    \"\"\"\n",
    "    msg = preproccess(msg)\n",
    "    for word in msg.split():\n",
    "        if word not in allwords:\n",
    "            allwords.append(word)\n",
    "    allwords_set = set(allwords)\n",
    "    msg_df = pd.DataFrame(columns=list(allwords_set))\n",
    "    msg_df.insert(0, 'label', [0])\n",
    "\n",
    "    for word in msg.split():\n",
    "        msg_df[word][0] = 1\n",
    "    msg_df = msg_df.fillna(0)\n",
    "\n",
    "    prediction = xgb.predict(msg_df.drop([\"label\"], axis=1))\n",
    "    if prediction[0] == 0:\n",
    "        return 'Message is NOT SPAM!'\n",
    "    else:\n",
    "        return 'Message is SPAM!'"
   ]
  },
  {
   "cell_type": "code",
   "execution_count": 312,
   "id": "138ea677",
   "metadata": {},
   "outputs": [
    {
     "name": "stdout",
     "output_type": "stream",
     "text": [
      "-------------------------------------------------------------------------------------\n",
      "Message is SPAM!\n",
      "-------------------------------------------------------------------------------------\n",
      "Message is NOT SPAM!\n",
      "-------------------------------------------------------------------------------------\n"
     ]
    }
   ],
   "source": [
    "spam = \"Congratulations! You have been specially selected to receive special prize. To claim, call now.\"\n",
    "not_spam = \"Hey, how are you doing? I hope you're having a great day!\"\n",
    "\n",
    "print('-' * 85)\n",
    "print(predict_message(spam, allwords))\n",
    "print('-' * 85)\n",
    "print(predict_message(not_spam, allwords))\n",
    "print('-' * 85)"
   ]
  },
  {
   "cell_type": "markdown",
   "id": "4cf5c393",
   "metadata": {},
   "source": [
    "**Model Performance Insights**\n",
    "\n",
    "While the model has demonstrated **strong overall performance**, achieving an impressive accuracy of **98.30%** with the **XGBoost** classifier, it's worth noting that due to the **imbalanced nature** of the dataset, there are occasional **false-negative** predictions. This implies that despite the high accuracy, certain spam messages may not always be correctly identified.\n",
    "\n",
    "The **precision** and **recall** metrics for both spam and non-spam classes are notably high, showcasing the model's effectiveness in distinguishing between spam and non-spam messages. However, the presence of occasional false negatives underscores the impact of class imbalance on model behavior.\n",
    "\n",
    "Looking ahead, further refinement of the modeling approach could be beneficial to **minimize false negatives** and further enhance the model's ability to accurately predict spam messages.\n",
    "\n"
   ]
  }
 ],
 "metadata": {
  "kernelspec": {
   "display_name": "Python 3 (ipykernel)",
   "language": "python",
   "name": "python3"
  },
  "language_info": {
   "codemirror_mode": {
    "name": "ipython",
    "version": 3
   },
   "file_extension": ".py",
   "mimetype": "text/x-python",
   "name": "python",
   "nbconvert_exporter": "python",
   "pygments_lexer": "ipython3",
   "version": "3.9.18"
  }
 },
 "nbformat": 4,
 "nbformat_minor": 5
}
