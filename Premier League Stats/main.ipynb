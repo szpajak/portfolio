{
 "cells": [
  {
   "cell_type": "markdown",
   "source": [
    "# ***Creating new database in MySQL***"
   ],
   "metadata": {
    "collapsed": false
   },
   "id": "af07dc19e997f426"
  },
  {
   "cell_type": "code",
   "execution_count": 450,
   "id": "initial_id",
   "metadata": {
    "collapsed": true,
    "ExecuteTime": {
     "end_time": "2024-02-09T12:45:20.427251800Z",
     "start_time": "2024-02-09T12:45:20.406138300Z"
    }
   },
   "outputs": [],
   "source": [
    "import mysql.connector\n",
    "from mysql.connector import Error"
   ]
  },
  {
   "cell_type": "code",
   "execution_count": 451,
   "outputs": [],
   "source": [
    "def connect_to_database(host, port, database, username, password):\n",
    "    \"\"\"\n",
    "    Function for connecting to the database.\n",
    "    :param host: Name of the host.\n",
    "    :param port: Number of the port.\n",
    "    :param database: Name of the database.\n",
    "    :param username: Username.\n",
    "    :param password: Password to  the database.\n",
    "    :return: Database connection object.\n",
    "    \"\"\"\n",
    "    connection = None\n",
    "    try:\n",
    "        connection = mysql.connector.connect(\n",
    "            host=host,\n",
    "            port=port,\n",
    "            database=database,\n",
    "            user=username,\n",
    "            password =password\n",
    "        )\n",
    "        print(\"Connection successful!\")\n",
    "    except Error as err:\n",
    "        print(f\"Error ocured: {err}.\")\n",
    "    return connection\n",
    "\n",
    "\n",
    "def execute_query(connection, query):\n",
    "    \"\"\"\n",
    "    Function for executing queries without parameters (e.g. creating tables).\n",
    "    :param connection: Database connection object.\n",
    "    :param query: SQL query.\n",
    "    :return: None\n",
    "    \"\"\"\n",
    "    cur = connection.cursor()\n",
    "    try:\n",
    "        cur.execute(query)\n",
    "        connection.commit()\n",
    "        print(\"Changes applied successfuly!\")\n",
    "    except Error as err:\n",
    "        print(f\"Error occured: {err}.\") \n",
    "        \n",
    "def insert_query(connection, query, record_list):\n",
    "    \"\"\"\n",
    "    Function for executing insert queries (queries with parameters).\n",
    "    :param connection: Database connection object.\n",
    "    :param query: SQL query.\n",
    "    :param record_list: List of the passed parameters.\n",
    "    :return: None\n",
    "    \"\"\"\n",
    "    cur = connection.cursor()\n",
    "    try:\n",
    "        cur.executemany(query, record_list)\n",
    "        connection.commit()\n",
    "        print(\"Changes applied successfuly!\")\n",
    "    except Error as err:\n",
    "        print(f\"Error occured: {err}.\") "
   ],
   "metadata": {
    "collapsed": false,
    "ExecuteTime": {
     "end_time": "2024-02-09T12:45:44.538297400Z",
     "start_time": "2024-02-09T12:45:44.505185900Z"
    }
   },
   "id": "ead67c3d3846f6e2"
  },
  {
   "cell_type": "code",
   "execution_count": 447,
   "outputs": [
    {
     "name": "stdout",
     "output_type": "stream",
     "text": [
      "Connection successful!\n"
     ]
    }
   ],
   "source": [
    "con = connect_to_database(\n",
    "    host=\"****\",\n",
    "    port=\"****\",\n",
    "    database=\"****\",\n",
    "    username=\"****\",\n",
    "    password=\"****\"\n",
    ")"
   ],
   "metadata": {
    "collapsed": false,
    "ExecuteTime": {
     "end_time": "2024-02-06T19:32:51.625174200Z",
     "start_time": "2024-02-06T19:32:51.223797100Z"
    }
   },
   "id": "e94544e178650e14"
  },
  {
   "cell_type": "markdown",
   "source": [
    "## ***Creating tables***"
   ],
   "metadata": {
    "collapsed": false
   },
   "id": "f3512865c498adfb"
  },
  {
   "cell_type": "markdown",
   "source": [
    "***league***\n",
    "\n",
    "- **id**: Primary key. Type: Integer.\n",
    "- **name**: Name of the league. Type: String."
   ],
   "metadata": {
    "collapsed": false
   },
   "id": "3cd5f96547a8101b"
  },
  {
   "cell_type": "code",
   "execution_count": 371,
   "outputs": [],
   "source": [
    "league = \"\"\"\n",
    "CREATE TABLE league (\n",
    "    id INT PRIMARY KEY,\n",
    "    name VARCHAR(50) NOT NULL\n",
    ")\n",
    "\"\"\""
   ],
   "metadata": {
    "collapsed": false,
    "ExecuteTime": {
     "end_time": "2024-02-06T16:36:38.748324900Z",
     "start_time": "2024-02-06T16:36:38.722314900Z"
    }
   },
   "id": "a6a8c70579a2fc2"
  },
  {
   "cell_type": "markdown",
   "source": [
    "***team***\n",
    "- **id**: Primary key. Type: Integer.\n",
    "- **league_id**: Foreign key referencing `league(id)`. Type: Integer.\n",
    "- **name**: Name of the team. Type: String."
   ],
   "metadata": {
    "collapsed": false
   },
   "id": "a6ebb15141e14cb1"
  },
  {
   "cell_type": "code",
   "execution_count": 372,
   "outputs": [],
   "source": [
    "team = \"\"\"\n",
    "CREATE TABLE team (\n",
    "    id INT PRIMARY KEY,\n",
    "    league_id INT NOT NULL,\n",
    "    name VARCHAR(50) NOT NULL,\n",
    "    FOREIGN KEY (league_id) REFERENCES league(id)\n",
    ")\n",
    "\"\"\""
   ],
   "metadata": {
    "collapsed": false,
    "ExecuteTime": {
     "end_time": "2024-02-06T16:36:41.253231600Z",
     "start_time": "2024-02-06T16:36:41.241220500Z"
    }
   },
   "id": "59b0e8d556f0d228"
  },
  {
   "cell_type": "markdown",
   "source": [
    "***player***\n",
    "- **id**: Primary key. Type: Integer.\n",
    "- **team_id**: Foreign key referencing `team(id)`. Type: Integer.\n",
    "- **name**: Name of the player. Type: String."
   ],
   "metadata": {
    "collapsed": false
   },
   "id": "ffea1e0fcf7d20be"
  },
  {
   "cell_type": "code",
   "execution_count": 373,
   "outputs": [],
   "source": [
    "player = \"\"\"\n",
    "CREATE TABLE player (\n",
    "    id INT PRIMARY KEY,\n",
    "    team_id INT NOT NULL,\n",
    "    name VARCHAR(50) NOT NULL,\n",
    "    FOREIGN KEY (team_id) REFERENCES team(id)\n",
    ")\n",
    "\"\"\""
   ],
   "metadata": {
    "collapsed": false,
    "ExecuteTime": {
     "end_time": "2024-02-06T16:36:44.766159700Z",
     "start_time": "2024-02-06T16:36:44.708738100Z"
    }
   },
   "id": "b278e55e5d57ec3f"
  },
  {
   "cell_type": "markdown",
   "source": [
    "***teamStd***\n",
    "- **id**: Primary key. Type: Integer.\n",
    "- **team_id**: Foreign key referencing `team(id)`. Type: Integer.\n",
    "- **pts**: Points. Type: Integer.\n",
    "- **wins**: Wins. Type: Integer.\n",
    "- **draws**: Draws. Type: Integer.\n",
    "- **losses**: Losses. Type: Integer.\n",
    "- **age**: Average age of players. Type: Float.\n",
    "- **poss**: Possession percentage. Type: Float.\n",
    "- **gls**: Goals scored. Type: Integer.\n",
    "- **ast**: Assists. Type: Integer.\n",
    "- **crdY**: Yellow cards. Type: Integer.\n",
    "- **crdR**: Red cards. Type: Integer.\n",
    "- **xG**: Expected goals. Type: Float."
   ],
   "metadata": {
    "collapsed": false
   },
   "id": "955604a673553f49"
  },
  {
   "cell_type": "code",
   "execution_count": 374,
   "outputs": [],
   "source": [
    "teamStd = \"\"\"\n",
    "CREATE TABLE teamStd (\n",
    "    id INT PRIMARY KEY,\n",
    "    team_id INT NOT NULL,\n",
    "    pts INT NOT NULL,\n",
    "    wins INT NOT NULL,\n",
    "    draws INT NOT NULL,\n",
    "    losses INT NOT NULL,\n",
    "    age FLOAT NOT NULL CHECK (age > 0),\n",
    "    poss FLOAT NOT NULL CHECK (poss >= 0),\n",
    "    gls INT NOT NULL CHECK (gls >= 0),\n",
    "    ast INT NOT NULL CHECK (ast >= 0),\n",
    "    crdY INT NOT NULL,\n",
    "    crdR INT NOT NULL,\n",
    "    xG FLOAT NOT NULL,\n",
    "    FOREIGN KEY (team_id) REFERENCES team(id)\n",
    ")\n",
    "\"\"\""
   ],
   "metadata": {
    "collapsed": false,
    "ExecuteTime": {
     "end_time": "2024-02-06T16:36:47.491338300Z",
     "start_time": "2024-02-06T16:36:47.477339300Z"
    }
   },
   "id": "ee35d2d506c81157"
  },
  {
   "cell_type": "markdown",
   "source": [
    "***playerStd***\n",
    "- **id**: Primary key. Type: Integer.\n",
    "- **player_id**: Foreign key referencing `player(id)`. Type: Integer.\n",
    "- **nation**: Nationality of the player. Type: String.\n",
    "- **pos**: Position of the player. Type: String.\n",
    "- **age**: Age of the player. Type: Integer.\n",
    "- **mtchs**: Matches played. Type: Integer.\n",
    "- **mins**: Minutes played. Type: Integer.\n",
    "- **gls**: Goals scored. Type: Integer.\n",
    "- **ast**: Assists. Type: Integer.\n",
    "- **crdY**: Yellow cards. Type: Integer.\n",
    "- **crdR**: Red cards. Type: Integer.\n",
    "- **xG**: Expected goals. Type: Float."
   ],
   "metadata": {
    "collapsed": false
   },
   "id": "2939a8e3f6167146"
  },
  {
   "cell_type": "code",
   "execution_count": 375,
   "outputs": [],
   "source": [
    "playerStd = \"\"\"\n",
    "CREATE TABLE playerStd(\n",
    "    id INT PRIMARY KEY,\n",
    "    player_id INT NOT NULL,\n",
    "    nation VARCHAR(50) NOT NULL,\n",
    "    pos VARCHAR(10) NOT NULL,    \n",
    "    age INT NOT NULL,\n",
    "    mtchs INT NOT NULL,\n",
    "    mins INT NOT NULL,\n",
    "    gls INT NOT NULL CHECK (gls >= 0),\n",
    "    ast INT NOT NULL CHECK (ast >= 0),\n",
    "    crdY INT NOT NULL,\n",
    "    crdR INT NOT NULL,\n",
    "    xG FLOAT NOT NULL,\n",
    "    FOREIGN KEY (player_id) REFERENCES player(id)\n",
    ")\n",
    "\"\"\""
   ],
   "metadata": {
    "collapsed": false,
    "ExecuteTime": {
     "end_time": "2024-02-06T16:36:49.773649400Z",
     "start_time": "2024-02-06T16:36:49.757343800Z"
    }
   },
   "id": "df4068f5981c1cfc"
  },
  {
   "cell_type": "markdown",
   "source": [
    "***teamSht***\n",
    "- **id**: Primary key. Type: Integer.\n",
    "- **team_id**: Foreign key referencing `team(id)`. Type: Integer.\n",
    "- **gls**: Goals. Type: Integer.\n",
    "- **sh**: Shots. Type: Integer.\n",
    "- **sot**: Shots on target. Type: Integer.\n",
    "- **sh90**: Shots per 90 minutes. Type: Integer.\n",
    "- **sot90**: Shots on target per 90 minutes. Type: Float.\n",
    "- **dist**: Average shot distance. Type: Float.\n",
    "- **fk**: Free kicks. Type: Integer.\n",
    "- **pk**: Penalty kicks. Type: Integer.\n",
    "- **xG**: Expected goals. Type: Float.\n",
    "- **G_xG**: Goals minus expected goals. Type: Float."
   ],
   "metadata": {
    "collapsed": false
   },
   "id": "f0c1c1d9b009605a"
  },
  {
   "cell_type": "code",
   "execution_count": 376,
   "outputs": [],
   "source": [
    "teamSht = \"\"\"\n",
    "CREATE TABLE teamSht(\n",
    "    id INT PRIMARY KEY,\n",
    "    team_id INT NOT NULL,\n",
    "    gls INT NOT NULL,\n",
    "    sh INT NOT NULL,\n",
    "    sot INT NOT NULL,\n",
    "    sh90 FLOAT NOT NULL,\n",
    "    sot90 FLOAT NOT NULL,\n",
    "    dist FLOAT,\n",
    "    fk INT NOT NULL,\n",
    "    pk INT NOT NULL,\n",
    "    xG FLOAT NOT NULL,\n",
    "    G_xG FLOAT NOT NULL, \n",
    "    FOREIGN KEY (team_id) REFERENCES team(id)\n",
    ")\n",
    "\n",
    "\"\"\""
   ],
   "metadata": {
    "collapsed": false,
    "ExecuteTime": {
     "end_time": "2024-02-06T16:36:52.363639300Z",
     "start_time": "2024-02-06T16:36:52.351543600Z"
    }
   },
   "id": "fe2d374176dbeb91"
  },
  {
   "cell_type": "markdown",
   "source": [
    "***playerSht***\n",
    "- **id**: Primary key. Type: Integer.\n",
    "- **player_id**: Foreign key referencing `player(id)`. Type: Integer.\n",
    "- **gls**: Goals. Type: Integer.\n",
    "- **sh**: Shots. Type: Integer.\n",
    "- **sot**: Shots on target. Type: Integer.\n",
    "- **sh90**: Shots per 90 minutes. Type: Integer.\n",
    "- **sot90**: Shots on target per 90 minutes. Type: Float.\n",
    "- **dist**: Average shot distance. Type: Float.\n",
    "- **fk**: Free kicks. Type: Integer.\n",
    "- **pk**: Penalty kicks. Type: Integer.\n",
    "- **xG**: Expected goals. Type: Float.\n",
    "- **G_xG**: Goals minus expected goals. Type: Float."
   ],
   "metadata": {
    "collapsed": false
   },
   "id": "e7be873a9988c53d"
  },
  {
   "cell_type": "code",
   "execution_count": 377,
   "outputs": [],
   "source": [
    "playerSht = \"\"\"\n",
    "CREATE TABLE playerSht(\n",
    "    id INT PRIMARY KEY,\n",
    "    player_id INT NOT NULL,\n",
    "    gls INT NOT NULL,\n",
    "    sh INT NOT NULL,\n",
    "    sot INT NOT NULL,\n",
    "    sh90 FLOAT NOT NULL,\n",
    "    sot90 FLOAT NOT NULL,\n",
    "    dist FLOAT,\n",
    "    fk INT NOT NULL,\n",
    "    pk INT NOT NULL,\n",
    "    xG FLOAT NOT NULL,\n",
    "    G_xG FLOAT NOT NULL, \n",
    "    FOREIGN KEY (player_id) REFERENCES player(id)\n",
    ")\n",
    "\n",
    "\"\"\""
   ],
   "metadata": {
    "collapsed": false,
    "ExecuteTime": {
     "end_time": "2024-02-06T16:36:52.380385100Z",
     "start_time": "2024-02-06T16:36:52.365638300Z"
    }
   },
   "id": "bd9de5f5391f3571"
  },
  {
   "cell_type": "markdown",
   "source": [
    "***teamPass***\n",
    "- **id**: Primary key. Type: Integer.\n",
    "- **team_id**: Foreign key referencing `team(id)`. Type: Integer.\n",
    "- **ast**: Assists. Type: Integer.\n",
    "- **xA**: Expected assists. Type: Float.\n",
    "- **kp**: Key passes. Type: Integer.\n",
    "- **prg**: Progressive passes. Type: Integer.\n",
    "- **t_cmp**: Total completed passes. Type: Integer.\n",
    "- **t_cmp_per**: Total completed passes percentage. Type: Float.\n",
    "- **s_cmp**: Short completed passes. Type: Integer.\n",
    "- **s_cmp_per**: Short completed passes percentage. Type: Float.\n",
    "- **m_cmp**: Medium completed passes. Type: Integer.\n",
    "- **m_cmp_per**: Medium completed passes percentage. Type: Float.\n",
    "- **l_cmp**: Long completed passes. Type: Integer.\n",
    "- **l_cmp_per**: Long completed passes percentage. Type: Float."
   ],
   "metadata": {
    "collapsed": false
   },
   "id": "49cfc6a0bbd88c9b"
  },
  {
   "cell_type": "code",
   "execution_count": 378,
   "outputs": [],
   "source": [
    "teamPass = \"\"\"\n",
    "CREATE TABLE teamPass(\n",
    "    id INT PRIMARY KEY,\n",
    "    team_id INT NOT NULL,\n",
    "    ast INT NOT NULL,\n",
    "    xA FLOAT NOT NULL,\n",
    "    kp INT NOT NULL,\n",
    "    prg INT NOT NULL,\n",
    "    t_cmp INT NOT NULL,\n",
    "    t_cmp_per FLOAT NOT NULL,\n",
    "    s_cmp INT NOT NULL,\n",
    "    s_cmp_per FLOAT NOT NULL,\n",
    "    m_cmp INT NOT NULL,\n",
    "    m_cmp_per FLOAT NOT NULL,\n",
    "    l_cmp INT NOT NULL,\n",
    "    l_cmp_per FLOAT NOT NULL,\n",
    "    FOREIGN KEY (team_id) REFERENCES team(id)\n",
    ")\n",
    "\n",
    "\"\"\""
   ],
   "metadata": {
    "collapsed": false,
    "ExecuteTime": {
     "end_time": "2024-02-06T16:36:54.855851500Z",
     "start_time": "2024-02-06T16:36:54.845853100Z"
    }
   },
   "id": "49838eebd6e9d74c"
  },
  {
   "cell_type": "markdown",
   "source": [
    "***playerPass***\n",
    "- **id**: Primary key. Type: Integer.\n",
    "- **player_id**: Foreign key referencing `player(id)`. Type: Integer.\n",
    "- **ast**: Assists. Type: Integer.\n",
    "- **xA**: Expected assists. Type: Float.\n",
    "- **kp**: Key passes. Type: Integer.\n",
    "- **prg**: Progressive passes. Type: Integer.\n",
    "- **t_cmp**: Total completed passes. Type: Integer.\n",
    "- **t_cmp_per**: Total completed passes percentage. Type: Float.\n",
    "- **s_cmp**: Short completed passes. Type: Integer.\n",
    "- **s_cmp_per**: Short completed passes percentage. Type: Float.\n",
    "- **m_cmp**: Medium completed passes. Type: Integer.\n",
    "- **m_cmp_per**: Medium completed passes percentage. Type: Float.\n",
    "- **l_cmp**: Long completed passes. Type: Integer.\n",
    "- **l_cmp_per**: Long completed passes percentage. Type: Float."
   ],
   "metadata": {
    "collapsed": false
   },
   "id": "e9d4c8bda4a8b0d3"
  },
  {
   "cell_type": "code",
   "execution_count": 379,
   "outputs": [],
   "source": [
    "playerPass = \"\"\"\n",
    "CREATE TABLE playerPass(\n",
    "    id INT PRIMARY KEY,\n",
    "    player_id INT NOT NULL,\n",
    "    ast INT NOT NULL,\n",
    "    xA FLOAT NOT NULL,\n",
    "    kp INT NOT NULL,\n",
    "    prg INT NOT NULL,\n",
    "    t_cmp INT NOT NULL,\n",
    "    t_cmp_per FLOAT,\n",
    "    s_cmp INT NOT NULL,\n",
    "    s_cmp_per FLOAT,\n",
    "    m_cmp INT NOT NULL,\n",
    "    m_cmp_per FLOAT,\n",
    "    l_cmp INT NOT NULL,\n",
    "    l_cmp_per FLOAT,\n",
    "    FOREIGN KEY (player_id) REFERENCES player(id)\n",
    ")\n",
    "\n",
    "\"\"\""
   ],
   "metadata": {
    "collapsed": false,
    "ExecuteTime": {
     "end_time": "2024-02-06T16:36:57.344193500Z",
     "start_time": "2024-02-06T16:36:57.298240200Z"
    }
   },
   "id": "80c06a67a3fe4022"
  },
  {
   "cell_type": "markdown",
   "source": [
    "***teamGSC***\n",
    "- **id**: Primary key. Type: Integer.\n",
    "- **team_id**: Foreign key referencing `team(id)`. Type: Integer.\n",
    "- **sca**: Shot-creating actions. Type: Integer.\n",
    "- **sca90**: Shot-creating actions per 90 minutes. Type: Float.\n",
    "- **sca_pl**: Shot-creating actions - pass live. Type: Integer.\n",
    "- **sca_pd**: Shot-creating actions - pass dead. Type: Integer.\n",
    "- **sca_to**: Shot-creating actions - take-on. Type: Integer.\n",
    "- **gca**: Goal-creating actions. Type: Integer.\n",
    "- **gca90**: Goal-creating actions per 90 minutes. Type: Float.\n",
    "- **gca_pl**: Goal-creating actions - pass live. Type: Integer.\n",
    "- **gca_pd**: Goal-creating actions - pass dead. Type: Integer.\n",
    "- **gca_to**: Goal-creating actions - take-on. Type: Integer."
   ],
   "metadata": {
    "collapsed": false
   },
   "id": "f6a06b3f203f07a4"
  },
  {
   "cell_type": "code",
   "execution_count": 380,
   "outputs": [],
   "source": [
    "teamGSC = \"\"\"\n",
    "CREATE TABLE teamGSC(\n",
    "    id INT PRIMARY KEY,\n",
    "    team_id INT NOT NULL,\n",
    "    sca INT NOT NULL,\n",
    "    sca90 FLOAT NOT NULL,\n",
    "    sca_pl INT NOT NULL,\n",
    "    sca_pd INT NOT NULL,\n",
    "    sca_to INT NOT NULL,\n",
    "    gca INT NOT NULL,\n",
    "    gca90 FLOAT NOT NULL,\n",
    "    gca_pl INT NOT NULL,\n",
    "    gca_pd INT NOT NULL,\n",
    "    gca_to INT NOT NULL,\n",
    "    FOREIGN KEY (team_id) REFERENCES team(id)\n",
    ")\n",
    "\"\"\""
   ],
   "metadata": {
    "collapsed": false,
    "ExecuteTime": {
     "end_time": "2024-02-06T16:36:57.372240900Z",
     "start_time": "2024-02-06T16:36:57.312235500Z"
    }
   },
   "id": "339b267ed98b5642"
  },
  {
   "cell_type": "markdown",
   "source": [
    "***playerGSC***\n",
    "- **id**: Primary key. Type: Integer.\n",
    "- **player_id**: Foreign key referencing `player(id)`. Type: Integer.\n",
    "- **sca**: Shot-creating actions. Type: Integer.\n",
    "- **sca90**: Shot-creating actions per 90 minutes. Type: Float.\n",
    "- **sca_pl**: Shot-creating actions - pass live. Type: Integer.\n",
    "- **sca_pd**: Shot-creating actions - pass dead. Type: Integer.\n",
    "- **sca_to**: Shot-creating actions - take-on. Type: Integer.\n",
    "- **gca**: Goal-creating actions. Type: Integer.\n",
    "- **gca90**: Goal-creating actions per 90 minutes. Type: Float.\n",
    "- **gca_pl**: Goal-creating actions - pass live. Type: Integer.\n",
    "- **gca_pd**: Goal-creating actions - pass dead. Type: Integer.\n",
    "- **gca_to**: Goal-creating actions - take-on. Type: Integer."
   ],
   "metadata": {
    "collapsed": false
   },
   "id": "ae9933c96364dcb1"
  },
  {
   "cell_type": "code",
   "execution_count": 381,
   "outputs": [],
   "source": [
    "playerGSC = \"\"\"\n",
    "CREATE TABLE playerGSC(\n",
    "    id INT PRIMARY KEY,\n",
    "    player_id INT NOT NULL,\n",
    "    sca INT NOT NULL,\n",
    "    sca90 FLOAT NOT NULL,\n",
    "    sca_pl INT NOT NULL,\n",
    "    sca_pd INT NOT NULL,\n",
    "    sca_to INT NOT NULL,\n",
    "    gca INT NOT NULL,\n",
    "    gca90 FLOAT NOT NULL,\n",
    "    gca_pl INT NOT NULL,\n",
    "    gca_pd INT NOT NULL,\n",
    "    gca_to INT NOT NULL,\n",
    "    FOREIGN KEY (player_id) REFERENCES player(id)\n",
    ")\n",
    "\"\"\""
   ],
   "metadata": {
    "collapsed": false,
    "ExecuteTime": {
     "end_time": "2024-02-06T16:36:57.372240900Z",
     "start_time": "2024-02-06T16:36:57.326236400Z"
    }
   },
   "id": "996eeeb00fe6ffe7"
  },
  {
   "cell_type": "markdown",
   "source": [
    "***teamPos***\n",
    "- **id**: Primary key. Type: Integer.\n",
    "- **team_id**: Foreign key referencing `team(id)`. Type: Integer.\n",
    "- **pos**: Possession percentage. Type: Float.\n",
    "- **tch**: Touches. Type: Integer.\n",
    "- **tch_dp**: Touches - defensive penalty area. Type: Integer.\n",
    "- **tch_dt**: Touches - defensive third. Type: Integer.\n",
    "- **tch_mt**: Touches - middle third. Type: Integer.\n",
    "- **tch_at**: Touches - attacking third. Type: Integer.\n",
    "- **tch_ap**: Touches - attacking penalty area. Type: Integer.\n",
    "- **carr**: Carries. Type: Integer.\n",
    "- **carr_d**: Carries - distance. Type: Integer.\n",
    "- **carr_pd**: Carries - progressive distance. Type: Integer.\n",
    "- **carr_ft**: Carries - final third. Type: Integer.\n",
    "- **carr_ap**: Carries - attacking penalty area. Type: Integer."
   ],
   "metadata": {
    "collapsed": false
   },
   "id": "6bf889d226cfb554"
  },
  {
   "cell_type": "code",
   "execution_count": 382,
   "outputs": [],
   "source": [
    "teamPos = \"\"\"\n",
    "CREATE TABLE teamPos(\n",
    "    id INT PRIMARY KEY,\n",
    "    team_id INT NOT NULL,\n",
    "    pos FLOAT NOT NULL,\n",
    "    tch INT NOT NULL,\n",
    "    tch_dp INT NOT NULL,\n",
    "    tch_dt INT NOT NULL,\n",
    "    tch_mt INT NOT NULL,\n",
    "    tch_at INT NOT NULL,\n",
    "    tch_ap INT NOT NULL,\n",
    "    carr INT NOT NULL,\n",
    "    carr_d INT NOT NULL,\n",
    "    carr_pd INT NOT NULL,\n",
    "    carr_ft INT NOT NULL,\n",
    "    carr_ap INT NOT NULL,\n",
    "    FOREIGN KEY (team_id) REFERENCES team(id)\n",
    ")\n",
    "\"\"\""
   ],
   "metadata": {
    "collapsed": false,
    "ExecuteTime": {
     "end_time": "2024-02-06T16:36:59.863846200Z",
     "start_time": "2024-02-06T16:36:59.849572800Z"
    }
   },
   "id": "b4ced0e09b61841"
  },
  {
   "cell_type": "markdown",
   "source": [
    "***playerPos***\n",
    "- **id**: Primary key. Type: Integer.\n",
    "- **player_id**: Foreign key referencing `player(id)`. Type: Integer.\n",
    "- **pos**: Possession percentage. Type: Float.\n",
    "- **tch**: Touches. Type: Integer.\n",
    "- **tch_dp**: Touches - defensive penalty area. Type: Integer.\n",
    "- **tch_dt**: Touches - defensive third. Type: Integer.\n",
    "- **tch_mt**: Touches - middle third. Type: Integer.\n",
    "- **tch_at**: Touches - attacking third. Type: Integer.\n",
    "- **tch_ap**: Touches - attacking penalty area. Type: Integer.\n",
    "- **carr**: Carries. Type: Integer.\n",
    "- **carr_d**: Carries - distance. Type: Integer.\n",
    "- **carr_pd**: Carries - progressive distance. Type: Integer.\n",
    "- **carr_ft**: Carries - final third. Type: Integer.\n",
    "- **carr_ap**: Carries - attacking penalty area. Type: Integer."
   ],
   "metadata": {
    "collapsed": false
   },
   "id": "819de9e63e847e57"
  },
  {
   "cell_type": "code",
   "execution_count": 413,
   "outputs": [],
   "source": [
    "playerPos = \"\"\"\n",
    "CREATE TABLE playerPos(\n",
    "    id INT PRIMARY KEY,\n",
    "    player_id INT NOT NULL,\n",
    "    tch INT NOT NULL,\n",
    "    tch_dp INT NOT NULL,\n",
    "    tch_dt INT NOT NULL,\n",
    "    tch_mt INT NOT NULL,\n",
    "    tch_at INT NOT NULL,\n",
    "    tch_ap INT NOT NULL,\n",
    "    carr INT NOT NULL,\n",
    "    carr_d INT NOT NULL,\n",
    "    carr_pd INT NOT NULL,\n",
    "    carr_ft INT NOT NULL,\n",
    "    carr_ap INT NOT NULL,\n",
    "    FOREIGN KEY (player_id) REFERENCES player(id)\n",
    ")\n",
    "\"\"\""
   ],
   "metadata": {
    "collapsed": false,
    "ExecuteTime": {
     "end_time": "2024-02-06T18:28:23.750082400Z",
     "start_time": "2024-02-06T18:28:23.709761600Z"
    }
   },
   "id": "7d7aab8b80ba7ec6"
  },
  {
   "cell_type": "code",
   "execution_count": 388,
   "outputs": [],
   "source": [
    "# queries = [league, team, player, teamStd, playerStd, teamSht, playerSht, teamPass, playerPass, teamGSC, playerGSC, teamPos, playerPos]\n",
    "# \n",
    "# for query in queries:\n",
    "#     execute_query(con, query)"
   ],
   "metadata": {
    "collapsed": false,
    "ExecuteTime": {
     "end_time": "2024-02-06T16:39:52.217911100Z",
     "start_time": "2024-02-06T16:39:52.197372500Z"
    }
   },
   "id": "679774a77d64eb6c"
  },
  {
   "cell_type": "markdown",
   "source": [
    "# ***WEB SCRAPING***"
   ],
   "metadata": {
    "collapsed": false
   },
   "id": "74a9b3d154f43143"
  },
  {
   "cell_type": "code",
   "execution_count": 347,
   "outputs": [],
   "source": [
    "import requests\n",
    "from bs4 import BeautifulSoup\n",
    "import re"
   ],
   "metadata": {
    "collapsed": false,
    "ExecuteTime": {
     "end_time": "2024-02-06T13:45:14.017090600Z",
     "start_time": "2024-02-06T13:45:13.980449400Z"
    }
   },
   "id": "7d6c777438237ce0"
  },
  {
   "cell_type": "markdown",
   "source": [
    "**URL Links and Constants**"
   ],
   "metadata": {
    "collapsed": false
   },
   "id": "4a4552becc22292b"
  },
  {
   "cell_type": "code",
   "execution_count": 415,
   "outputs": [],
   "source": [
    "main_url = \"https://fbref.com/en/comps/9/2022-2023/2022-2023-Premier-League-Stats\"\n",
    "std_url = \"https://fbref.com/en/comps/9/2022-2023/stats/2022-2023-Premier-League-Stats#all_stats_standard\"\n",
    "sht_url = \"https://fbref.com/en/comps/9/2022-2023/shooting/2022-2023-Premier-League-Stats#all_stats_shooting\"\n",
    "pass_url = \"https://fbref.com/en/comps/9/2022-2023/passing/2022-2023-Premier-League-Stats#all_stats_passing\"\n",
    "gsc_url = \"https://fbref.com/en/comps/9/2022-2023/gca/2022-2023-Premier-League-Stats#all_stats_gca\"\n",
    "pos_url = \"https://fbref.com/en/comps/9/2022-2023/possession/2022-2023-Premier-League-Stats#all_stats_possession\"\n",
    "\n",
    "EPL_PL_AMT = 569\n",
    "EPL_T_AMT = 20"
   ],
   "metadata": {
    "collapsed": false,
    "ExecuteTime": {
     "end_time": "2024-02-06T18:29:22.910696500Z",
     "start_time": "2024-02-06T18:29:22.865555700Z"
    }
   },
   "id": "1e577fab475246a"
  },
  {
   "cell_type": "markdown",
   "source": [
    "**League**"
   ],
   "metadata": {
    "collapsed": false
   },
   "id": "b0fefb6549d720aa"
  },
  {
   "cell_type": "code",
   "execution_count": 255,
   "outputs": [],
   "source": [
    "LEAGUE_ID = {'Premier League': 0}\n",
    "\n",
    "# insert_league = \"INSERT INTO league (id, name) VALUES (0, 'Premier League')\"\n",
    "# \n",
    "# execute_query(con, insert_league)"
   ],
   "metadata": {
    "collapsed": false,
    "ExecuteTime": {
     "end_time": "2024-02-05T19:11:24.177596900Z",
     "start_time": "2024-02-05T19:11:24.151544700Z"
    }
   },
   "id": "3860da515e20985d"
  },
  {
   "cell_type": "markdown",
   "source": [
    "**Team**"
   ],
   "metadata": {
    "collapsed": false
   },
   "id": "8e8a710e8ab986b1"
  },
  {
   "cell_type": "code",
   "execution_count": 204,
   "outputs": [],
   "source": [
    "page = requests.get(std_url)\n",
    "soup = BeautifulSoup(page.text, 'html.parser')\n",
    "\n",
    "team_list = soup.find(id='stats_squads_standard_for')\n",
    "team_list_items = team_list.find_all('a')\n",
    "\n",
    "team_rec = []\n",
    "\n",
    "TEAM_ID = {}\n",
    "\n",
    "for i, team in enumerate(team_list_items):\n",
    "    row = (i, LEAGUE_ID['Premier League'], team.contents[0])\n",
    "    team_rec.append(row)\n",
    "    TEAM_ID[team.contents[0]] = i\n",
    "    \n",
    "# insert_teams = \"INSERT INTO team (id, league_id, name) VALUES (%s, %s, %s)\"\n",
    "# \n",
    "# insert_query(con, insert_teams, team_rec)"
   ],
   "metadata": {
    "collapsed": false,
    "ExecuteTime": {
     "end_time": "2024-02-05T15:37:19.953372700Z",
     "start_time": "2024-02-05T15:37:19.072807200Z"
    }
   },
   "id": "fc6cdb2baf4f869f"
  },
  {
   "cell_type": "markdown",
   "source": [
    "**Functions for all tables**"
   ],
   "metadata": {
    "collapsed": false
   },
   "id": "5abc4af7c7688185"
  },
  {
   "cell_type": "code",
   "execution_count": 449,
   "outputs": [],
   "source": [
    "def prepare_table(url, team_or_player):\n",
    "    \"\"\"\n",
    "    Choosing right table from the provided website.\n",
    "    :param url: URL link to certain webpage.\n",
    "    :param team_or_player: String \"Player\" or \"Team\" depending on the purpose.\n",
    "    :return: Table with the players or team stats yet to be edited.\n",
    "    \"\"\"\n",
    "    page = requests.get(url)\n",
    "\n",
    "    # Deleting comments from the text\n",
    "    comm = re.compile(\"<!--|-->\")\n",
    "    soup = BeautifulSoup(comm.sub(\"\", page.text))\n",
    "    all_tables = soup.findAll(\"tbody\")\n",
    "    \n",
    "    if team_or_player == \"Player\":\n",
    "        return all_tables[2]\n",
    "    elif team_or_player == \"Team\":\n",
    "        return all_tables[0]\n",
    "    else:\n",
    "        print(\"Wrong parameter.\")\n",
    "        \n",
    "\n",
    "def get_stats(team_or_player, table, wanted_features, unwanted_rows, foreign_key, foreign_list, primary_key = None, primary_list = None):\n",
    "    \"\"\"\n",
    "    Function for scraping desired stats from the website.\n",
    "    :param team_or_player: String \"Player\" or \"Team\"\n",
    "    :param table: Result of the function: prepare_table()\n",
    "    :param wanted_features: Desired features names taken from html code of the webpage\n",
    "    :param unwanted_rows: Names of the columns (to prevent from adding them into table).\n",
    "    :param foreign_key: Foreign key as a name of the feature from html code of the webpage.\n",
    "    :param foreign_list: Previously created global variable e.g. PLAYER_ID, TEAM_ID etc.\n",
    "    :type foreign_list: dict\n",
    "    :param primary_key: Used only to create new dictionary of IDs. Optional.\n",
    "    :param primary_list: Used only to create new dictionary of IDs. Optional.\n",
    "    :return: List of lists of the stats to be used in insert_query() function.\n",
    "    \"\"\"\n",
    "    if team_or_player == 'Player':\n",
    "        result = [[i] for i in range(EPL_PL_AMT)]           # Creating list with indices\n",
    "    else:\n",
    "        result = [[i] for i in range(EPL_T_AMT)]\n",
    "    for feature in wanted_features:\n",
    "        idx = 0\n",
    "        player_features = table.find_all(attrs={'data-stat':feature})\n",
    "        curr = 0\n",
    "        for i in range(len(player_features)):\n",
    "            f = player_features[i].text\n",
    "            if f == '':                 # dealing with empty cells\n",
    "                f = None\n",
    "                result[idx].append(f)\n",
    "                idx += 1\n",
    "            elif f not in unwanted_rows:\n",
    "                if re.match(r'^\\d*\\,?\\d+$', f):            # changing string numbers into ints and floats\n",
    "                    f = int(f.replace(\",\", \"\"))\n",
    "                elif re.match(r'^[-+]?\\d*\\.?\\d+$', f):\n",
    "                    f = float(f)\n",
    "                if feature != foreign_key:\n",
    "                    result[idx].append(f)\n",
    "                else:\n",
    "                    if not isinstance(foreign_list[f], tuple):\n",
    "                        result[idx].append(foreign_list[f])\n",
    "                        curr = 0\n",
    "                    else:\n",
    "                        result[idx].append(foreign_list[f][curr])\n",
    "                        curr += 1\n",
    "                if primary_list is not None and feature == primary_key:\n",
    "                    if f in primary_list.keys():\n",
    "                        primary_list[f] = (primary_list[f], idx)\n",
    "                    else:\n",
    "                        primary_list[f] = idx\n",
    "                idx += 1    \n",
    "    result = [tuple(elem) for elem in result]\n",
    "    return result"
   ],
   "metadata": {
    "collapsed": false,
    "ExecuteTime": {
     "end_time": "2024-02-09T12:25:04.277614600Z",
     "start_time": "2024-02-09T12:25:04.107535600Z"
    }
   },
   "id": "a10675f56210498"
  },
  {
   "cell_type": "markdown",
   "source": [
    "**Player**"
   ],
   "metadata": {
    "collapsed": false
   },
   "id": "300054abbdb4d6b2"
  },
  {
   "cell_type": "code",
   "execution_count": 269,
   "outputs": [],
   "source": [
    "wf = ['team', 'player']\n",
    "ur = ['Squad', 'Player']\n",
    "PLAYER_ID = {}\n",
    "\n",
    "player_table = prepare_table(std_url, \"Player\")    \n",
    "player_rec = get_stats(\"Player\", player_table, wf, ur, 'team', TEAM_ID, 'player', PLAYER_ID)\n",
    "\n",
    "# insert_players = \"INSERT INTO player (id, team_id, name) VALUES (%s, %s, %s)\"\n",
    "# \n",
    "# insert_query(con, insert_players, player_rec)"
   ],
   "metadata": {
    "collapsed": false,
    "ExecuteTime": {
     "end_time": "2024-02-05T23:34:11.957530700Z",
     "start_time": "2024-02-05T23:34:09.443541800Z"
    }
   },
   "id": "bd28616c5034b31c"
  },
  {
   "cell_type": "markdown",
   "source": [
    "**Team Standard Stats**"
   ],
   "metadata": {
    "collapsed": false
   },
   "id": "2b28f8493a89aa3e"
  },
  {
   "cell_type": "code",
   "execution_count": 445,
   "outputs": [],
   "source": [
    "# Before running this cell comment last line in game_stats(), because default presentation of country wasn't satisfying\n",
    "\n",
    "wf = ['team', 'avg_age', 'possession', 'goals', 'assists', 'cards_yellow', 'cards_red', 'xg']\n",
    "ur = ['Squad', 'Age', 'Poss', 'Gls', 'Ast', 'CrdY', 'CrdR', 'xG']\n",
    "\n",
    "team_table = prepare_table(std_url, \"Team\")\n",
    "team_std_rec = get_stats(\"Team\", team_table, wf, ur, 'team', TEAM_ID)\n",
    "\n",
    "wf = ['team', 'points', 'wins', 'ties', 'losses']\n",
    "ur = ['Squad', 'Pts', 'W', 'D', 'L']\n",
    "\n",
    "page = requests.get(main_url)\n",
    "\n",
    "# Deleting comments from the text\n",
    "comm = re.compile(\"<!--|-->\")\n",
    "soup = BeautifulSoup(comm.sub(\"\", page.text))\n",
    "all_tables = soup.findAll(\"tbody\")\n",
    "team_table = all_tables[0]\n",
    "team_std_rec2 = get_stats(\"Team\", team_table, wf, ur, None, None)\n",
    "for elem in team_std_rec2:\n",
    "    elem[1] = elem[1][1:]\n",
    "    elem[1] = TEAM_ID[elem[1]]"
   ],
   "metadata": {
    "collapsed": false,
    "ExecuteTime": {
     "end_time": "2024-02-06T19:30:09.244636900Z",
     "start_time": "2024-02-06T19:30:06.222688800Z"
    }
   },
   "id": "5c4d6638ca91671e"
  },
  {
   "cell_type": "code",
   "execution_count": 448,
   "outputs": [
    {
     "name": "stdout",
     "output_type": "stream",
     "text": [
      "Changes applied successfuly!\n"
     ]
    }
   ],
   "source": [
    "team_main_rec = []\n",
    "\n",
    "for elem in team_std_rec:\n",
    "    for elem2 in team_std_rec2:\n",
    "        if elem[1] == elem2[1]:\n",
    "            team_main_rec.append(elem[:2]+elem2[2:]+elem[2:])\n",
    "            break\n",
    "\n",
    "team_main_rec = [tuple(elem) for elem in team_main_rec]\n",
    "\n",
    "# insert_teams = \"INSERT INTO teamStd (id, team_id, pts, wins, draws, losses, age, poss, gls, ast, crdY, crdR, xG) VALUES (%s, %s, %s, %s, %s, %s, %s, %s, %s, %s, %s, %s, %s)\"\n",
    "# \n",
    "# insert_query(con, insert_teams, team_main_rec)"
   ],
   "metadata": {
    "collapsed": false,
    "ExecuteTime": {
     "end_time": "2024-02-06T19:34:14.137725200Z",
     "start_time": "2024-02-06T19:34:13.635818200Z"
    }
   },
   "id": "4a5e1ced17987bc4"
  },
  {
   "cell_type": "markdown",
   "source": [
    "**Player Standard Stats**"
   ],
   "metadata": {
    "collapsed": false
   },
   "id": "6fb76ba9ce1ed4d7"
  },
  {
   "cell_type": "code",
   "execution_count": 306,
   "outputs": [
    {
     "name": "stdout",
     "output_type": "stream",
     "text": [
      "Changes applied successfuly!\n"
     ]
    }
   ],
   "source": [
    "# Before running this cell comment last line in game_stats(), because default presentation of country wasn't satisfying\n",
    "\n",
    "wf = ['player', 'nationality', 'position', 'age', 'games', 'minutes', 'goals', 'assists', 'cards_yellow', 'cards_red', 'xg']\n",
    "ur = ['Player', 'Nation', 'Pos', 'Age', 'MP', 'Min', 'Gls', 'Ast', 'CrdY', 'CrdR', 'xG']\n",
    "\n",
    "player_std_table = prepare_table(std_url, \"Player\")    \n",
    "player_std_rec = get_stats(team_or_player=\"Player\", table=player_std_table, wanted_features=wf, unwanted_rows=ur, foreign_key='player', foreign_list=PLAYER_ID)\n",
    "\n",
    "for elem in player_std_rec:\n",
    "    elem[2] = elem[2].split()[1]\n",
    "    \n",
    "player_std_rec = [tuple(elem) for elem in player_std_rec]\n",
    "\n",
    "# insert_players = \"INSERT INTO playerStd (id, player_id, nation, pos, age, mtchs, mins, gls, ast, crdY, crdR, xG) VALUES (%s, %s, %s, %s, %s, %s, %s, %s, %s, %s, %s, %s)\"\n",
    "# \n",
    "# insert_query(con, insert_players, player_std_rec)"
   ],
   "metadata": {
    "collapsed": false,
    "ExecuteTime": {
     "end_time": "2024-02-06T01:06:23.794806200Z",
     "start_time": "2024-02-06T01:06:21.116809900Z"
    }
   },
   "id": "e5507cd2de8d93b"
  },
  {
   "cell_type": "markdown",
   "source": [
    "**Team & Player Shooting Stats**"
   ],
   "metadata": {
    "collapsed": false
   },
   "id": "4625519e1cf86b5d"
  },
  {
   "cell_type": "code",
   "execution_count": null,
   "outputs": [],
   "source": [
    "# Player\n",
    "wfp = ['player', 'goals', 'shots', 'shots_on_target', 'shots_per90', 'shots_on_target_per90', 'average_shot_distance', 'shots_free_kicks', 'pens_made', 'xg', 'xg_net']\n",
    "urp = ['Player', 'Gls', 'Sh', 'SoT', 'Sh/90', 'SoT/90', 'Dist', 'FK', 'PK', 'xG', 'G-xG']\n",
    "\n",
    "# Team\n",
    "wft = ['team', 'goals', 'shots', 'shots_on_target', 'shots_per90', 'shots_on_target_per90', 'average_shot_distance', 'shots_free_kicks', 'pens_made', 'xg', 'xg_net']\n",
    "urt = ['Squad', 'Gls', 'Sh', 'SoT', 'Sh/90', 'SoT/90', 'Dist', 'FK', 'PK', 'xG', 'G-xG']\n",
    "\n",
    "player_sht_table = prepare_table(sht_url, \"Player\") \n",
    "player_sht_rec = get_stats(team_or_player=\"Player\", table=player_sht_table, wanted_features=wfp, unwanted_rows=urp, foreign_key='player', foreign_list=PLAYER_ID)\n",
    "\n",
    "team_sht_table = prepare_table(sht_url, \"Team\") \n",
    "team_sht_rec = get_stats(team_or_player=\"Team\", table=team_sht_table, wanted_features=wft, unwanted_rows=urt, foreign_key='team', foreign_list=TEAM_ID)\n",
    "\n",
    "# insert_players = \"INSERT INTO playerSht (id, player_id, gls, sh, sot, sh90, sot90, dist, fk, pk, xG, G_xG) VALUES (%s, %s, %s, %s, %s, %s, %s, %s, %s, %s, %s, %s)\"\n",
    "# \n",
    "# insert_query(con, insert_players, player_sht_rec)\n",
    "# \n",
    "# insert_teams = \"INSERT INTO teamSht (id, team_id, gls, sh, sot, sh90, sot90, dist, fk, pk, xG, G_xG) VALUES (%s, %s, %s, %s, %s, %s, %s, %s, %s, %s, %s, %s)\"\n",
    "# \n",
    "# insert_query(con, insert_teams, team_sht_rec)"
   ],
   "metadata": {
    "collapsed": false
   },
   "id": "4b13e5f9e530020"
  },
  {
   "cell_type": "markdown",
   "source": [
    "**Team & Player Passing Stats**"
   ],
   "metadata": {
    "collapsed": false
   },
   "id": "60be27465134b752"
  },
  {
   "cell_type": "code",
   "execution_count": 398,
   "outputs": [
    {
     "name": "stdout",
     "output_type": "stream",
     "text": [
      "Changes applied successfuly!\n",
      "Changes applied successfuly!\n"
     ]
    }
   ],
   "source": [
    "# Player\n",
    "wfp = ['player', 'assists', 'pass_xa', 'assisted_shots', 'progressive_passes', 'passes_completed', 'passes_pct', 'passes_completed_short', 'passes_pct_short', 'passes_completed_medium', 'passes_pct_medium', 'passes_completed_long', 'passes_pct_long']\n",
    "urp = ['Player', 'Ast', 'xA', 'KP', 'PrgP', 'Cmp', 'Cmp%']\n",
    "\n",
    "# Team\n",
    "wft = ['team', 'assists', 'pass_xa', 'assisted_shots', 'progressive_passes', 'passes_completed', 'passes_pct', 'passes_completed_short', 'passes_pct_short', 'passes_completed_medium', 'passes_pct_medium', 'passes_completed_long', 'passes_pct_long']\n",
    "urt = ['Squad', 'Ast', 'xA', 'KP', 'PrgP', 'Cmp', 'Cmp%']\n",
    "\n",
    "player_pass_table = prepare_table(pass_url, \"Player\") \n",
    "player_pass_rec = get_stats(team_or_player=\"Player\", table=player_pass_table, wanted_features=wfp, unwanted_rows=urp, foreign_key='player', foreign_list=PLAYER_ID)\n",
    "\n",
    "team_pass_table = prepare_table(pass_url, \"Team\") \n",
    "team_pass_rec = get_stats(team_or_player=\"Team\", table=team_pass_table, wanted_features=wft, unwanted_rows=urt, foreign_key='team', foreign_list=TEAM_ID)\n",
    "\n",
    "# insert_players = \"INSERT INTO playerPass (id, player_id, ast, xA, kp, prg, t_cmp, t_cmp_per, s_cmp, s_cmp_per, m_cmp, m_cmp_per, l_cmp, l_cmp_per) VALUES (%s, %s, %s, %s, %s, %s, %s, %s, %s, %s, %s, %s, %s, %s)\"\n",
    "# \n",
    "# insert_query(con, insert_players, player_pass_rec)\n",
    "# \n",
    "# insert_teams = \"INSERT INTO teamPass (id, team_id, ast, xA, kp, prg, t_cmp, t_cmp_per, s_cmp, s_cmp_per, m_cmp, m_cmp_per, l_cmp, l_cmp_per) VALUES (%s, %s, %s, %s, %s, %s, %s, %s, %s, %s, %s, %s, %s, %s)\"\n",
    "# \n",
    "# insert_query(con, insert_teams, team_pass_rec)"
   ],
   "metadata": {
    "collapsed": false,
    "ExecuteTime": {
     "end_time": "2024-02-06T17:39:21.108833600Z",
     "start_time": "2024-02-06T17:39:14.662556800Z"
    }
   },
   "id": "9b3447b36317b042"
  },
  {
   "cell_type": "markdown",
   "source": [
    "**Team & Player Goal and Shot Creation Stats**"
   ],
   "metadata": {
    "collapsed": false
   },
   "id": "2bad9a307e0b912d"
  },
  {
   "cell_type": "code",
   "execution_count": null,
   "outputs": [],
   "source": [
    "# Player\n",
    "wfp = ['player', 'sca', 'sca_per90', 'sca_passes_live', 'sca_passes_dead', 'sca_take_ons', 'gca', 'gca_per90', 'gca_passes_live', 'gca_passes_dead', 'gca_take_ons']\n",
    "urp = ['Player', 'SCA', 'SCA90', 'PassLive', 'PassDead', 'TO', 'GCA', 'GCA90']\n",
    "\n",
    "# Team\n",
    "wft = ['team', 'sca', 'sca_per90', 'sca_passes_live', 'sca_passes_dead', 'sca_take_ons', 'gca', 'gca_per90', 'gca_passes_live', 'gca_passes_dead', 'gca_take_ons']\n",
    "urt = ['Squad', 'SCA', 'SCA90', 'PassLive', 'PassDead', 'TO', 'GCA', 'GCA90']\n",
    "\n",
    "player_gsc_table = prepare_table(gsc_url, \"Player\") \n",
    "player_gsc_rec = get_stats(team_or_player=\"Player\", table=player_gsc_table, wanted_features=wfp, unwanted_rows=urp, foreign_key='player', foreign_list=PLAYER_ID)\n",
    "\n",
    "team_gsc_table = prepare_table(gsc_url, \"Team\") \n",
    "team_gsc_rec = get_stats(team_or_player=\"Team\", table=team_gsc_table, wanted_features=wft, unwanted_rows=urt, foreign_key='team', foreign_list=TEAM_ID)\n",
    "\n",
    "# insert_players = \"INSERT INTO playerGSC (id, player_id, sca, sca90, sca_pl, sca_pd, sca_to, gca, gca90, gca_pl, gca_pd, gca_to) VALUES (%s, %s, %s, %s, %s, %s, %s, %s, %s, %s, %s, %s)\"\n",
    "# \n",
    "# insert_query(con, insert_players, player_gsc_rec)\n",
    "# \n",
    "# insert_teams = \"INSERT INTO teamGSC (id, team_id, sca, sca90, sca_pl, sca_pd, sca_to, gca, gca90, gca_pl, gca_pd, gca_to) VALUES (%s, %s, %s, %s, %s, %s, %s, %s, %s, %s, %s, %s)\"\n",
    "# \n",
    "# insert_query(con, insert_teams, team_gsc_rec)"
   ],
   "metadata": {
    "collapsed": false
   },
   "id": "27b2a5bb66dbc114"
  },
  {
   "cell_type": "markdown",
   "source": [
    "**Team & Player Possesion Stats**"
   ],
   "metadata": {
    "collapsed": false
   },
   "id": "55495a6086ea6429"
  },
  {
   "cell_type": "code",
   "execution_count": 416,
   "outputs": [
    {
     "name": "stdout",
     "output_type": "stream",
     "text": [
      "Changes applied successfuly!\n"
     ]
    }
   ],
   "source": [
    "# Player\n",
    "wfp = ['player', 'touches', 'touches_def_pen_area', 'touches_def_3rd', 'touches_mid_3rd', 'touches_att_3rd', 'touches_att_pen_area', 'carries', 'carries_distance', 'carries_progressive_distance', 'carries_into_final_third', 'carries_into_penalty_area' ]\n",
    "urp = ['Player', 'Touches', 'Def Pen', 'Def 3rd', 'Mid 3rd', 'Att 3rd', 'Att Pen', 'Carries', 'TotDist', 'PrgDist', '1/3', 'CPA']\n",
    "\n",
    "# Team\n",
    "wft = ['team', 'possession', 'touches', 'touches_def_pen_area', 'touches_def_3rd', 'touches_mid_3rd', 'touches_att_3rd', 'touches_att_pen_area', 'carries', 'carries_distance', 'carries_progressive_distance', 'carries_into_final_third', 'carries_into_penalty_area' ]\n",
    "urt = ['Squad', 'Poss', 'Touches', 'Def Pen', 'Def 3rd', 'Mid 3rd', 'Att 3rd', 'Att Pen', 'Carries', 'TotDist', 'PrgDist', '1/3', 'CPA']\n",
    "\n",
    "player_pos_table = prepare_table(pos_url, \"Player\") \n",
    "player_pos_rec = get_stats(team_or_player=\"Player\", table=player_pos_table, wanted_features=wfp, unwanted_rows=urp, foreign_key='player', foreign_list=PLAYER_ID)\n",
    "\n",
    "team_pos_table = prepare_table(pos_url, \"Team\") \n",
    "team_pos_rec = get_stats(team_or_player=\"Team\", table=team_pos_table, wanted_features=wft, unwanted_rows=urt, foreign_key='team', foreign_list=TEAM_ID)\n",
    "\n",
    "# insert_players = \"INSERT INTO playerPos (id, player_id, tch, tch_dp, tch_dt, tch_mt, tch_at, tch_ap, carr, carr_d, carr_pd, carr_ft, carr_ap) VALUES (%s, %s, %s, %s, %s, %s, %s, %s, %s, %s, %s, %s, %s)\"\n",
    "# \n",
    "# insert_query(con, insert_players, player_pos_rec)\n",
    "\n",
    "# insert_teams = \"INSERT INTO teamPos (id, team_id, pos, tch, tch_dp, tch_dt, tch_mt, tch_at, tch_ap, carr, carr_d, carr_pd, carr_ft, carr_ap) VALUES (%s, %s, %s, %s, %s, %s, %s, %s, %s, %s, %s, %s, %s, %s)\"\n",
    "# \n",
    "# insert_query(con, insert_teams, team_pos_rec)"
   ],
   "metadata": {
    "collapsed": false,
    "ExecuteTime": {
     "end_time": "2024-02-06T18:30:37.690803500Z",
     "start_time": "2024-02-06T18:30:28.310987Z"
    }
   },
   "id": "80c14e37eaee396b"
  }
 ],
 "metadata": {
  "kernelspec": {
   "display_name": "Python 3",
   "language": "python",
   "name": "python3"
  },
  "language_info": {
   "codemirror_mode": {
    "name": "ipython",
    "version": 2
   },
   "file_extension": ".py",
   "mimetype": "text/x-python",
   "name": "python",
   "nbconvert_exporter": "python",
   "pygments_lexer": "ipython2",
   "version": "2.7.6"
  }
 },
 "nbformat": 4,
 "nbformat_minor": 5
}
